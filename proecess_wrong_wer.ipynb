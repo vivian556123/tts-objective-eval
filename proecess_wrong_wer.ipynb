{
 "cells": [
  {
   "cell_type": "code",
   "execution_count": 8,
   "metadata": {},
   "outputs": [
    {
     "ename": "NameError",
     "evalue": "name 'lang' is not defined",
     "output_type": "error",
     "traceback": [
      "\u001b[0;31m---------------------------------------------------------------------------\u001b[0m",
      "\u001b[0;31mNameError\u001b[0m                                 Traceback (most recent call last)",
      "Cell \u001b[0;32mIn[8], line 83\u001b[0m\n\u001b[1;32m     81\u001b[0m         utt \u001b[38;5;241m=\u001b[39m l[\u001b[38;5;241m0\u001b[39m]\u001b[38;5;241m.\u001b[39msplit(\u001b[38;5;124m'\u001b[39m\u001b[38;5;124m/\u001b[39m\u001b[38;5;124m'\u001b[39m)[\u001b[38;5;241m0\u001b[39m]\n\u001b[1;32m     82\u001b[0m         trans_predict \u001b[38;5;241m=\u001b[39m l[\u001b[38;5;241m-\u001b[39m\u001b[38;5;241m1\u001b[39m]\n\u001b[0;32m---> 83\u001b[0m         raw_truth, raw_hypo, wer, subs, dele, inse \u001b[38;5;241m=\u001b[39m \u001b[43mprocess_one\u001b[49m\u001b[43m(\u001b[49m\u001b[43mtrans_predict\u001b[49m\u001b[43m,\u001b[49m\u001b[43m \u001b[49m\u001b[43mgt_trans\u001b[49m\u001b[43m[\u001b[49m\u001b[43mutt\u001b[49m\u001b[43m]\u001b[49m\u001b[43m)\u001b[49m\n\u001b[1;32m     84\u001b[0m         wers\u001b[38;5;241m.\u001b[39mappend(\u001b[38;5;28mfloat\u001b[39m(wer))\n\u001b[1;32m     85\u001b[0m \u001b[38;5;28mprint\u001b[39m(\u001b[38;5;124mf\u001b[39m\u001b[38;5;124m\"\u001b[39m\u001b[38;5;124mFile: \u001b[39m\u001b[38;5;132;01m{\u001b[39;00mfile\u001b[38;5;132;01m}\u001b[39;00m\u001b[38;5;124m, WER: \u001b[39m\u001b[38;5;132;01m{\u001b[39;00mnp\u001b[38;5;241m.\u001b[39mmean(wers)\u001b[38;5;132;01m}\u001b[39;00m\u001b[38;5;124m\"\u001b[39m)\n",
      "Cell \u001b[0;32mIn[8], line 41\u001b[0m, in \u001b[0;36mprocess_one\u001b[0;34m(hypo, truth)\u001b[0m\n\u001b[1;32m     38\u001b[0m truth \u001b[38;5;241m=\u001b[39m truth\u001b[38;5;241m.\u001b[39mlower()\n\u001b[1;32m     39\u001b[0m hypo \u001b[38;5;241m=\u001b[39m hypo\u001b[38;5;241m.\u001b[39mlower()\n\u001b[0;32m---> 41\u001b[0m \u001b[38;5;28;01mif\u001b[39;00m \u001b[43mlang\u001b[49m \u001b[38;5;241m==\u001b[39m \u001b[38;5;124m\"\u001b[39m\u001b[38;5;124mzh\u001b[39m\u001b[38;5;124m\"\u001b[39m:\n\u001b[1;32m     42\u001b[0m     truth \u001b[38;5;241m=\u001b[39m \u001b[38;5;124m\"\u001b[39m\u001b[38;5;124m \u001b[39m\u001b[38;5;124m\"\u001b[39m\u001b[38;5;241m.\u001b[39mjoin([x \u001b[38;5;28;01mfor\u001b[39;00m x \u001b[38;5;129;01min\u001b[39;00m truth])\n\u001b[1;32m     43\u001b[0m     hypo \u001b[38;5;241m=\u001b[39m \u001b[38;5;124m\"\u001b[39m\u001b[38;5;124m \u001b[39m\u001b[38;5;124m\"\u001b[39m\u001b[38;5;241m.\u001b[39mjoin([x \u001b[38;5;28;01mfor\u001b[39;00m x \u001b[38;5;129;01min\u001b[39;00m hypo])\n",
      "\u001b[0;31mNameError\u001b[0m: name 'lang' is not defined"
     ]
    }
   ],
   "source": [
    "import numpy as np\n",
    "import pandas as pd\n",
    "\n",
    "import os \n",
    "import tqdm \n",
    "# add a path to the sys.path\n",
    "import sys\n"
   ]
  },
  {
   "cell_type": "code",
   "execution_count": 26,
   "metadata": {},
   "outputs": [],
   "source": [
    "\n",
    "import sys, os\n",
    "from tqdm import tqdm\n",
    "import multiprocessing\n",
    "from jiwer import compute_measures\n",
    "from zhon.hanzi import punctuation\n",
    "import string\n",
    "import numpy as np\n",
    "from transformers import WhisperProcessor, WhisperForConditionalGeneration, pipeline\n",
    "import soundfile as sf\n",
    "import scipy\n",
    "import zhconv\n",
    "from funasr import AutoModel\n",
    "from datasets import load_dataset\n",
    "\n",
    "\n",
    "lang = \"en\"\n",
    "device = \"cuda:0\"\n",
    "punctuation_all = punctuation + string.punctuation + '.,!?'\n",
    "def process_one(hypo, truth):\n",
    "    raw_truth = truth\n",
    "    raw_hypo = hypo\n",
    "\n",
    "    for x in punctuation_all:\n",
    "        if x == '\\'':\n",
    "            continue\n",
    "        truth = truth.replace(x, '')\n",
    "        hypo = hypo.replace(x, '')\n",
    "    truth = truth.replace('[laughter]','')\n",
    "    hypo = hypo.replace('[laughter]','')\n",
    "    \n",
    "    truth = truth.replace('  ', ' ')\n",
    "    hypo = hypo.replace('  ', ' ')\n",
    "    truth = truth.lower()\n",
    "    hypo = hypo.lower()\n",
    "    \n",
    "    #print(\"hypo\", hypo, \"truth\", truth)\n",
    "\n",
    "    if lang == \"zh\":\n",
    "        truth = \" \".join([x for x in truth])\n",
    "        hypo = \" \".join([x for x in hypo])\n",
    "    elif lang == \"en\":\n",
    "        truth = truth.lower()\n",
    "        hypo = hypo.lower()\n",
    "    else:\n",
    "        raise NotImplementedError\n",
    "\n",
    "    measures = compute_measures(truth, hypo)\n",
    "    ref_list = truth.split(\" \")\n",
    "    wer = measures[\"wer\"]\n",
    "    subs = measures[\"substitutions\"] / len(ref_list)\n",
    "    dele = measures[\"deletions\"] / len(ref_list)\n",
    "    inse = measures[\"insertions\"] / len(ref_list)\n",
    "    \n",
    "    # print(\"hyp\", hypo,  \"truth\", truth, \"WER\", wer, \"subs\", subs, \"dele\", dele, \"inse\", inse)\n",
    "    return (truth, hypo, wer, subs, dele, inse)\n"
   ]
  },
  {
   "cell_type": "code",
   "execution_count": 34,
   "metadata": {},
   "outputs": [
    {
     "name": "stdout",
     "output_type": "stream",
     "text": [
      "File: /exp/leying.zhang/Fisher-dataset-test/2spk_soundstorm_simu/covosingle/wer_results_score, WER: 13.671373835328124\n",
      "File: /exp/leying.zhang/Fisher-dataset-test/2spk_soundstorm_simu/covomix/wer_results_score, WER: 15.312884971868131\n",
      "File: /exp/leying.zhang/Fisher-dataset-test/2spk_soundstorm_simu/soundstorm_dongmei20240807/setting_3_steps_5_gumbleSample_False/steps_5_gumbleSample_False/wer_results_score, WER: 16.050754449580342\n",
      "File: /exp/leying.zhang/Fisher-dataset-test/2spk_soundstorm_simu/ground_truth_after_vocoder/wer_results_score, WER: 14.006949736341634\n"
     ]
    }
   ],
   "source": [
    "\n",
    "\n",
    "file_list = [\"/exp/leying.zhang/Fisher-dataset-test/2spk_soundstorm_simu/covosingle/wer_results_score\",\n",
    "             \"/exp/leying.zhang/Fisher-dataset-test/2spk_soundstorm_simu/covomix/wer_results_score\",\n",
    "             \"/exp/leying.zhang/Fisher-dataset-test/2spk_soundstorm_simu/soundstorm_dongmei20240807/setting_3_steps_5_gumbleSample_False/steps_5_gumbleSample_False/wer_results_score\",\n",
    "             \"/exp/leying.zhang/Fisher-dataset-test/2spk_soundstorm_simu/ground_truth_after_vocoder/wer_results_score\"]\n",
    "\n",
    "gt_trans = {}\n",
    "with open('/exp/leying.zhang/Fisher-dataset-test/1spk_monologue/test/soundstorm_evaluation_pairs_eval.txt') as f:\n",
    "    labels = f.readlines()\n",
    "    for l in labels:\n",
    "        l = l.strip().split('\\t')\n",
    "        utt = l[0].split('/')[-1]\n",
    "        trans = l[-1]\n",
    "        gt_trans[utt] = trans \n",
    "\n",
    "for file in file_list:\n",
    "    wers = []\n",
    "    with open(file) as f:\n",
    "        labels = f.readlines()\n",
    "        for l in labels:\n",
    "            l = l.strip().split('\\t')\n",
    "            utt = l[0].split('/')[-1]\n",
    "            trans_predict = l[-4]\n",
    "            if len(trans_predict.split(' ')) < len(gt_trans[utt].split(' '))-2 or len(trans_predict.split(' ')) > len(gt_trans[utt].split(' '))+2:\n",
    "                continue\n",
    "            raw_truth, raw_hypo, wer, subs, dele, inse = process_one(trans_predict, gt_trans[utt])\n",
    "            wers.append(float(wer))\n",
    "    print(f\"File: {file}, WER: {np.mean(wers)*100}\")"
   ]
  },
  {
   "cell_type": "code",
   "execution_count": 22,
   "metadata": {},
   "outputs": [
    {
     "data": {
      "text/plain": [
       "{'': \"okay oh you do how many packs do you smoke in a day from my window and i watched the building fall and as soon as it fell i got in my car and i left i didn't even say well goodnight you know i'll see you guys tomorrow or is it okay to leave i left okay my opinion is i'm glad they did 'cause i'm not a smoker\"}"
      ]
     },
     "execution_count": 22,
     "metadata": {},
     "output_type": "execute_result"
    }
   ],
   "source": [
    "gt_trans"
   ]
  }
 ],
 "metadata": {
  "kernelspec": {
   "display_name": "covomix",
   "language": "python",
   "name": "python3"
  },
  "language_info": {
   "codemirror_mode": {
    "name": "ipython",
    "version": 3
   },
   "file_extension": ".py",
   "mimetype": "text/x-python",
   "name": "python",
   "nbconvert_exporter": "python",
   "pygments_lexer": "ipython3",
   "version": "3.8.19"
  }
 },
 "nbformat": 4,
 "nbformat_minor": 2
}
