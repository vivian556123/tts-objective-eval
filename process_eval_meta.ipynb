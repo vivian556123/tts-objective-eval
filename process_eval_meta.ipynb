{
 "cells": [
  {
   "cell_type": "code",
   "execution_count": 1,
   "metadata": {},
   "outputs": [],
   "source": [
    "with open('/home/leying.zhang/data/LibriTTS/LibriTTS_20ms_16k/robust-test_evaluation_pairs.csv','r') as g:\n",
    "    lines_pairs = g.readlines()\n",
    "    \n",
    "\n",
    "with open('/home/leying.zhang/data/LibriTTS/LibriTTS_20ms_16k/libritts_test.csv','w') as g:\n",
    "    for line in lines_pairs: \n",
    "        wavname = line.strip().split('\\t')[1]\n",
    "        promptname = line.strip().split('\\t')[0]\n",
    "        text_path = wavname.replace(\"/data/import/LibriTTS_20ms_16k/textgrid\",'/home/leying.zhang/data/LibriTTS/LibriTTSWav/LibriTTS').replace('.wav','.normalized.txt')\n",
    "        with open(text_path,'r')  as k:\n",
    "            content = k.readlines()\n",
    "        text = content[0]\n",
    "        to_write = wavname + '\\t' + promptname + '\\t' + text + '\\n'\n",
    "        g.write(to_write)"
   ]
  }
 ],
 "metadata": {
  "kernelspec": {
   "display_name": "covomix",
   "language": "python",
   "name": "python3"
  },
  "language_info": {
   "codemirror_mode": {
    "name": "ipython",
    "version": 3
   },
   "file_extension": ".py",
   "mimetype": "text/x-python",
   "name": "python",
   "nbconvert_exporter": "python",
   "pygments_lexer": "ipython3",
   "version": "3.8.19"
  }
 },
 "nbformat": 4,
 "nbformat_minor": 2
}
