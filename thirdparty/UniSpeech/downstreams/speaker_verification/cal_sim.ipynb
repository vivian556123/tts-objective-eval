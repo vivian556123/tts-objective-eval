{
 "cells": [
  {
   "cell_type": "code",
   "execution_count": 19,
   "metadata": {},
   "outputs": [
    {
     "name": "stdout",
     "output_type": "stream",
     "text": [
      "{'fe_03_06301_030.wav': '00000001.wav', 'fe_03_06310_011.wav': '00000002.wav', 'fe_03_06324_021.wav': '00000003.wav', 'fe_03_06333_011.wav': '00000004.wav', 'fe_03_06358_003.wav': '00000005.wav', 'fe_03_06380_016.wav': '00000006.wav', 'fe_03_06386_033.wav': '00000007.wav', 'fe_03_09707_021.wav': '00000008.wav', 'fe_03_09715_008.wav': '00000009.wav', 'fe_03_09715_029.wav': '00000010.wav', 'fe_03_09720_004.wav': '00000011.wav', 'fe_03_09724_023.wav': '00000012.wav', 'fe_03_09727_028.wav': '00000013.wav', 'fe_03_09729_006.wav': '00000014.wav', 'fe_03_09761_016.wav': '00000015.wav', 'fe_03_09769_011.wav': '00000016.wav', 'fe_03_09779_030.wav': '00000017.wav'}\n"
     ]
    }
   ],
   "source": [
    "import tqdm\n",
    "import argparse\n",
    "import os\n",
    "import torch\n",
    "import fire\n",
    "import torch.nn.functional as F\n",
    "from torchaudio.transforms import Resample\n",
    "import librosa\n",
    "import torch.nn as nn\n",
    "import torch.nn.functional as F\n",
    "import torchaudio.transforms as trans\n",
    "import sys\n",
    "from pathlib import Path\n",
    "\n",
    "# Add the parent directory to sys.path\n",
    "sys.path.append(\"/home/leying.zhang/code/seed-tts-eval/thirdparty/UniSpeech/downstreams/speaker_verification\")\n",
    "from verification_pair_list_v2 import * \n",
    "\n",
    "filename_dict = {}\n",
    "wav_list = [\"fe_03_06301_030.txt\",\"fe_03_06310_011.txt\",\"fe_03_06324_021.txt\",\"fe_03_06333_011.txt\",\"fe_03_06358_003.txt\",\"fe_03_06380_016.txt\",\"fe_03_06386_033.txt\",\"fe_03_09707_021.txt\",\"fe_03_09715_008.txt\",\"fe_03_09715_029.txt\",\"fe_03_09720_004.txt\",\"fe_03_09724_023.txt\",\"fe_03_09727_028.txt\",\"fe_03_09729_006.txt\",\"fe_03_09761_016.txt\",\"fe_03_09769_011.txt\",\"fe_03_09779_030.txt\"]\n",
    "for i in range(len(wav_list)):\n",
    "    wav = wav_list[i]\n",
    "    test_name = wav.split(\".\")[0]+\".wav\"\n",
    "    if i >= 9: \n",
    "        test_index = \"000000\"+str(i+1)+\".wav\"\n",
    "    else:\n",
    "        test_index = \"0000000\"+str(i+1)+\".wav\"\n",
    "    filename_dict[test_name] = test_index\n",
    "    \n",
    "print(filename_dict)"
   ]
  },
  {
   "cell_type": "code",
   "execution_count": 20,
   "metadata": {},
   "outputs": [
    {
     "ename": "NameError",
     "evalue": "name 'verification_ly' is not defined",
     "output_type": "error",
     "traceback": [
      "\u001b[0;31m---------------------------------------------------------------------------\u001b[0m",
      "\u001b[0;31mNameError\u001b[0m                                 Traceback (most recent call last)",
      "Cell \u001b[0;32mIn[20], line 13\u001b[0m\n\u001b[1;32m     10\u001b[0m covomix_time \u001b[38;5;241m=\u001b[39m [\u001b[38;5;241m0\u001b[39m,\u001b[38;5;241m1.22\u001b[39m]\n\u001b[1;32m     12\u001b[0m sr \u001b[38;5;241m=\u001b[39m \u001b[38;5;241m16000\u001b[39m\n\u001b[0;32m---> 13\u001b[0m sim1, model \u001b[38;5;241m=\u001b[39m \u001b[43mverification_ly\u001b[49m(\u001b[38;5;124m\"\u001b[39m\u001b[38;5;124mwavlm_large\u001b[39m\u001b[38;5;124m\"\u001b[39m, t1_path, t2_path, \n\u001b[1;32m     14\u001b[0m                           use_gpu\u001b[38;5;241m=\u001b[39m\u001b[38;5;28;01mTrue\u001b[39;00m, checkpoint\u001b[38;5;241m=\u001b[39m\u001b[38;5;124m\"\u001b[39m\u001b[38;5;124m/exp/leying.zhang/pretrained_models/wavlm_large_finetune.pth\u001b[39m\u001b[38;5;124m\"\u001b[39m, \n\u001b[1;32m     15\u001b[0m                           wav1_start_sr\u001b[38;5;241m=\u001b[39m\u001b[38;5;241m0\u001b[39m, \n\u001b[1;32m     16\u001b[0m                           wav1_end_sr\u001b[38;5;241m=\u001b[39m\u001b[38;5;241m-\u001b[39m\u001b[38;5;241m1\u001b[39m, \n\u001b[1;32m     17\u001b[0m                           wav2_start_sr\u001b[38;5;241m=\u001b[39m\u001b[38;5;241m0\u001b[39m,\n\u001b[1;32m     18\u001b[0m                           wav2_end_sr\u001b[38;5;241m=\u001b[39m\u001b[38;5;241m-\u001b[39m\u001b[38;5;241m1\u001b[39m, \n\u001b[1;32m     19\u001b[0m                           model\u001b[38;5;241m=\u001b[39mmodel, \n\u001b[1;32m     20\u001b[0m                           wav2_cut_wav1\u001b[38;5;241m=\u001b[39m\u001b[38;5;28;01mFalse\u001b[39;00m, device\u001b[38;5;241m=\u001b[39m\u001b[38;5;124m\"\u001b[39m\u001b[38;5;124mcuda\u001b[39m\u001b[38;5;124m\"\u001b[39m,\n\u001b[1;32m     21\u001b[0m                           cut_prompt \u001b[38;5;241m=\u001b[39m \u001b[38;5;28;01mTrue\u001b[39;00m)\n\u001b[1;32m     23\u001b[0m \u001b[38;5;66;03m# sim2, model = verification(\"wavlm_large\", t1_path, t3_path, \u001b[39;00m\n\u001b[1;32m     24\u001b[0m \u001b[38;5;66;03m#                           use_gpu=True, checkpoint=\"/exp/leying.zhang/pretrained_models/wavlm_large_finetune.pth\", \u001b[39;00m\n\u001b[1;32m     25\u001b[0m \u001b[38;5;66;03m#                           wav1_start_sr=0, \u001b[39;00m\n\u001b[0;32m   (...)\u001b[0m\n\u001b[1;32m     29\u001b[0m \u001b[38;5;66;03m#                           model=model, \u001b[39;00m\n\u001b[1;32m     30\u001b[0m \u001b[38;5;66;03m#                           wav2_cut_wav1=False, device=\"cuda\")\u001b[39;00m\n\u001b[1;32m     31\u001b[0m \u001b[38;5;28mprint\u001b[39m(\u001b[38;5;124m\"\u001b[39m\u001b[38;5;124msim of covomix: \u001b[39m\u001b[38;5;124m\"\u001b[39m,sim1,)\n",
      "\u001b[0;31mNameError\u001b[0m: name 'verification_ly' is not defined"
     ]
    }
   ],
   "source": [
    "\n",
    "test_name = \"fe_03_06324_021.wav\"\n",
    "t1_path = \"/home/leying.zhang/code/CoVoMix/prompt/\"+test_name.replace(\".wav\",\"_2.wav\") # prompt\n",
    "t2_path = \"/home/leying.zhang/code/CoVoMix/SpeechSimilarityTestDiag/voice1covomix/\"+filename_dict[test_name] # covomix\n",
    "t3_path = \"/home/leying.zhang/code/CoVoMix/SpeechSimilarityTestDiag/voice2/\"+filename_dict[test_name] # covosingle\n",
    "# t2_path = \"/exp/leying.zhang/CoVoMix/soundstorm_demo/soundstorm_8k/\"+name+\"_1.wav\" # target\n",
    "\n",
    "t1_path = \"/exp/leying.zhang/Fisher-dataset-test/2spk_soundstorm_simu/ground_truth/0.wav\"\n",
    "t2_path = \"/exp/leying.zhang/Fisher-dataset-test/2spk_soundstorm_simu/prompt_spk1/0.wav\"\n",
    "\n",
    "covomix_time = [0,1.22]\n",
    "\n",
    "sr = 16000\n",
    "model = None\n",
    "sim1, model = verification_ly(\"wavlm_large\", t1_path, t2_path, \n",
    "                          use_gpu=True, checkpoint=\"/exp/leying.zhang/pretrained_models/wavlm_large_finetune.pth\", \n",
    "                          wav1_start_sr=0, \n",
    "                          wav1_end_sr=-1, \n",
    "                          wav2_start_sr=0,\n",
    "                          wav2_end_sr=-1, \n",
    "                          model=model, \n",
    "                          wav2_cut_wav1=False, device=\"cuda\",\n",
    "                          cut_prompt = True)\n",
    "\n",
    "# sim2, model = verification(\"wavlm_large\", t1_path, t3_path, \n",
    "#                           use_gpu=True, checkpoint=\"/exp/leying.zhang/pretrained_models/wavlm_large_finetune.pth\", \n",
    "#                           wav1_start_sr=0, \n",
    "#                           wav1_end_sr=-1, \n",
    "#                           wav2_start_sr=int(covosingle_time[0]*sr),\n",
    "#                           wav2_end_sr=int(covosingle_time[1]*sr), \n",
    "#                           model=model, \n",
    "#                           wav2_cut_wav1=False, device=\"cuda\")\n",
    "print(\"sim of covomix: \",sim1,)\n",
    "\n",
    "import librosa\n",
    "import numpy as np\n",
    "from soundfile import write\n",
    "from scipy.io import wavfile\n",
    "\n",
    "sr = 8000\n",
    "def extract_segment(input_file,start_sample, end_sample, output_file):\n",
    "    # Load the WAV file\n",
    "    sample_rate, audio_data = wavfile.read(input_file)\n",
    "    if end_sample != -1 and (start_sample < 0 or end_sample > len(audio_data) or start_sample >= end_sample):\n",
    "        raise ValueError(\"Invalid start or end sample indices.\")\n",
    "    segment = audio_data[start_sample:end_sample]\n",
    "    wavfile.write(output_file, sample_rate, segment)\n",
    "\n",
    "extract_segment(t1_path, 0, int(covomix_time[1]*sr), \"/home/leying.zhang/tmp/test-gt.wav\")"
   ]
  },
  {
   "cell_type": "code",
   "execution_count": 1,
   "metadata": {},
   "outputs": [
    {
     "name": "stdout",
     "output_type": "stream",
     "text": [
      "-62 -1.24\n"
     ]
    }
   ],
   "source": [
    "\n",
    "a = [[-1,0,2,1,1,-2,-2,-3,-1,-1],\n",
    "[0,-2,-1,-1,0,-3,1,2,-3,2],\n",
    "[-1,0,2,-1,3,0,2,0,2,3],\n",
    "[-1,1,3,2,2,2,1,-2,2,3],\n",
    "[-1,-2,-2,-2,-1,2,2,3,-1,-2],\n",
    "[0,0,0,0,1,-1,-1,0,0,-2],\n",
    "[-1,-1,1,-1,-2,-1,2,0,0,-2],\n",
    "[0,0,1,-2,1,-2,1,2,-2,3],\n",
    "[-1,-2,-2,-3,0,0,-2,-1,-2,-2],\n",
    "[-1,-2,1,-3,0,-3,-2,0,-2,-3]]\n",
    "\n",
    "\n",
    "s = 0\n",
    "l = [2,3,5,6,7]\n",
    "for i in range(len(a)):\n",
    "    for j in a[i]:\n",
    "        # print(j)\n",
    "        if i in l:\n",
    "            # print(j)\n",
    "            s = s-j\n",
    "        else: \n",
    "            s = s+j\n",
    "print(s, s/50)"
   ]
  }
 ],
 "metadata": {
  "kernelspec": {
   "display_name": "covomix",
   "language": "python",
   "name": "python3"
  },
  "language_info": {
   "codemirror_mode": {
    "name": "ipython",
    "version": 3
   },
   "file_extension": ".py",
   "mimetype": "text/x-python",
   "name": "python",
   "nbconvert_exporter": "python",
   "pygments_lexer": "ipython3",
   "version": "3.8.19"
  }
 },
 "nbformat": 4,
 "nbformat_minor": 2
}
